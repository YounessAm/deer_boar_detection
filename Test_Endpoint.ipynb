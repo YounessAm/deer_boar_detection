{
 "cells": [
  {
   "cell_type": "markdown",
   "metadata": {},
   "source": [
    "# Test your endpoint\n",
    "\n",
    "This notebook present some tests to assert the endpoint"
   ]
  },
  {
   "cell_type": "code",
   "execution_count": 34,
   "metadata": {},
   "outputs": [
    {
     "name": "stdout",
     "output_type": "stream",
     "text": [
      "Requirement already satisfied: ultralytics==8.1.5 in /home/matfox44/miniconda3/envs/cerf_sanglier/lib/python3.10/site-packages (from -r requirements.txt (line 1)) (8.1.5)\n",
      "Requirement already satisfied: numpy==1.26.3 in /home/matfox44/miniconda3/envs/cerf_sanglier/lib/python3.10/site-packages (from -r requirements.txt (line 2)) (1.26.3)\n",
      "Requirement already satisfied: joblib==1.3.2 in /home/matfox44/miniconda3/envs/cerf_sanglier/lib/python3.10/site-packages (from -r requirements.txt (line 3)) (1.3.2)\n",
      "Requirement already satisfied: Flask==3.0.1 in /home/matfox44/miniconda3/envs/cerf_sanglier/lib/python3.10/site-packages (from -r requirements.txt (line 4)) (3.0.1)\n",
      "Requirement already satisfied: matplotlib>=3.3.0 in /home/matfox44/miniconda3/envs/cerf_sanglier/lib/python3.10/site-packages (from ultralytics==8.1.5->-r requirements.txt (line 1)) (3.8.2)\n",
      "Requirement already satisfied: opencv-python>=4.6.0 in /home/matfox44/miniconda3/envs/cerf_sanglier/lib/python3.10/site-packages (from ultralytics==8.1.5->-r requirements.txt (line 1)) (4.9.0.80)\n",
      "Requirement already satisfied: pillow>=7.1.2 in /home/matfox44/miniconda3/envs/cerf_sanglier/lib/python3.10/site-packages (from ultralytics==8.1.5->-r requirements.txt (line 1)) (10.2.0)\n",
      "Requirement already satisfied: pyyaml>=5.3.1 in /home/matfox44/miniconda3/envs/cerf_sanglier/lib/python3.10/site-packages (from ultralytics==8.1.5->-r requirements.txt (line 1)) (6.0.1)\n",
      "Requirement already satisfied: requests>=2.23.0 in /home/matfox44/miniconda3/envs/cerf_sanglier/lib/python3.10/site-packages (from ultralytics==8.1.5->-r requirements.txt (line 1)) (2.31.0)\n",
      "Requirement already satisfied: scipy>=1.4.1 in /home/matfox44/miniconda3/envs/cerf_sanglier/lib/python3.10/site-packages (from ultralytics==8.1.5->-r requirements.txt (line 1)) (1.12.0)\n",
      "Requirement already satisfied: torch>=1.8.0 in /home/matfox44/miniconda3/envs/cerf_sanglier/lib/python3.10/site-packages (from ultralytics==8.1.5->-r requirements.txt (line 1)) (2.1.2)\n",
      "Requirement already satisfied: torchvision>=0.9.0 in /home/matfox44/miniconda3/envs/cerf_sanglier/lib/python3.10/site-packages (from ultralytics==8.1.5->-r requirements.txt (line 1)) (0.16.2)\n",
      "Requirement already satisfied: tqdm>=4.64.0 in /home/matfox44/miniconda3/envs/cerf_sanglier/lib/python3.10/site-packages (from ultralytics==8.1.5->-r requirements.txt (line 1)) (4.66.1)\n",
      "Requirement already satisfied: psutil in /home/matfox44/miniconda3/envs/cerf_sanglier/lib/python3.10/site-packages (from ultralytics==8.1.5->-r requirements.txt (line 1)) (5.9.8)\n",
      "Requirement already satisfied: py-cpuinfo in /home/matfox44/miniconda3/envs/cerf_sanglier/lib/python3.10/site-packages (from ultralytics==8.1.5->-r requirements.txt (line 1)) (9.0.0)\n",
      "Requirement already satisfied: thop>=0.1.1 in /home/matfox44/miniconda3/envs/cerf_sanglier/lib/python3.10/site-packages (from ultralytics==8.1.5->-r requirements.txt (line 1)) (0.1.1.post2209072238)\n",
      "Requirement already satisfied: pandas>=1.1.4 in /home/matfox44/miniconda3/envs/cerf_sanglier/lib/python3.10/site-packages (from ultralytics==8.1.5->-r requirements.txt (line 1)) (2.2.0)\n",
      "Requirement already satisfied: seaborn>=0.11.0 in /home/matfox44/miniconda3/envs/cerf_sanglier/lib/python3.10/site-packages (from ultralytics==8.1.5->-r requirements.txt (line 1)) (0.13.1)\n",
      "Requirement already satisfied: Werkzeug>=3.0.0 in /home/matfox44/miniconda3/envs/cerf_sanglier/lib/python3.10/site-packages (from Flask==3.0.1->-r requirements.txt (line 4)) (3.0.1)\n",
      "Requirement already satisfied: Jinja2>=3.1.2 in /home/matfox44/miniconda3/envs/cerf_sanglier/lib/python3.10/site-packages (from Flask==3.0.1->-r requirements.txt (line 4)) (3.1.3)\n",
      "Requirement already satisfied: itsdangerous>=2.1.2 in /home/matfox44/miniconda3/envs/cerf_sanglier/lib/python3.10/site-packages (from Flask==3.0.1->-r requirements.txt (line 4)) (2.1.2)\n",
      "Requirement already satisfied: click>=8.1.3 in /home/matfox44/miniconda3/envs/cerf_sanglier/lib/python3.10/site-packages (from Flask==3.0.1->-r requirements.txt (line 4)) (8.1.7)\n",
      "Requirement already satisfied: blinker>=1.6.2 in /home/matfox44/miniconda3/envs/cerf_sanglier/lib/python3.10/site-packages (from Flask==3.0.1->-r requirements.txt (line 4)) (1.7.0)\n",
      "Requirement already satisfied: MarkupSafe>=2.0 in /home/matfox44/miniconda3/envs/cerf_sanglier/lib/python3.10/site-packages (from Jinja2>=3.1.2->Flask==3.0.1->-r requirements.txt (line 4)) (2.1.4)\n",
      "Requirement already satisfied: contourpy>=1.0.1 in /home/matfox44/miniconda3/envs/cerf_sanglier/lib/python3.10/site-packages (from matplotlib>=3.3.0->ultralytics==8.1.5->-r requirements.txt (line 1)) (1.2.0)\n",
      "Requirement already satisfied: cycler>=0.10 in /home/matfox44/miniconda3/envs/cerf_sanglier/lib/python3.10/site-packages (from matplotlib>=3.3.0->ultralytics==8.1.5->-r requirements.txt (line 1)) (0.12.1)\n",
      "Requirement already satisfied: fonttools>=4.22.0 in /home/matfox44/miniconda3/envs/cerf_sanglier/lib/python3.10/site-packages (from matplotlib>=3.3.0->ultralytics==8.1.5->-r requirements.txt (line 1)) (4.47.2)\n",
      "Requirement already satisfied: kiwisolver>=1.3.1 in /home/matfox44/miniconda3/envs/cerf_sanglier/lib/python3.10/site-packages (from matplotlib>=3.3.0->ultralytics==8.1.5->-r requirements.txt (line 1)) (1.4.5)\n",
      "Requirement already satisfied: packaging>=20.0 in /home/matfox44/miniconda3/envs/cerf_sanglier/lib/python3.10/site-packages (from matplotlib>=3.3.0->ultralytics==8.1.5->-r requirements.txt (line 1)) (23.2)\n",
      "Requirement already satisfied: pyparsing>=2.3.1 in /home/matfox44/miniconda3/envs/cerf_sanglier/lib/python3.10/site-packages (from matplotlib>=3.3.0->ultralytics==8.1.5->-r requirements.txt (line 1)) (3.1.1)\n",
      "Requirement already satisfied: python-dateutil>=2.7 in /home/matfox44/miniconda3/envs/cerf_sanglier/lib/python3.10/site-packages (from matplotlib>=3.3.0->ultralytics==8.1.5->-r requirements.txt (line 1)) (2.8.2)\n",
      "Requirement already satisfied: pytz>=2020.1 in /home/matfox44/miniconda3/envs/cerf_sanglier/lib/python3.10/site-packages (from pandas>=1.1.4->ultralytics==8.1.5->-r requirements.txt (line 1)) (2023.3.post1)\n",
      "Requirement already satisfied: tzdata>=2022.7 in /home/matfox44/miniconda3/envs/cerf_sanglier/lib/python3.10/site-packages (from pandas>=1.1.4->ultralytics==8.1.5->-r requirements.txt (line 1)) (2023.4)\n",
      "Requirement already satisfied: charset-normalizer<4,>=2 in /home/matfox44/miniconda3/envs/cerf_sanglier/lib/python3.10/site-packages (from requests>=2.23.0->ultralytics==8.1.5->-r requirements.txt (line 1)) (3.3.2)\n",
      "Requirement already satisfied: idna<4,>=2.5 in /home/matfox44/miniconda3/envs/cerf_sanglier/lib/python3.10/site-packages (from requests>=2.23.0->ultralytics==8.1.5->-r requirements.txt (line 1)) (3.6)\n",
      "Requirement already satisfied: urllib3<3,>=1.21.1 in /home/matfox44/miniconda3/envs/cerf_sanglier/lib/python3.10/site-packages (from requests>=2.23.0->ultralytics==8.1.5->-r requirements.txt (line 1)) (2.0.7)\n",
      "Requirement already satisfied: certifi>=2017.4.17 in /home/matfox44/miniconda3/envs/cerf_sanglier/lib/python3.10/site-packages (from requests>=2.23.0->ultralytics==8.1.5->-r requirements.txt (line 1)) (2023.11.17)\n",
      "Requirement already satisfied: filelock in /home/matfox44/miniconda3/envs/cerf_sanglier/lib/python3.10/site-packages (from torch>=1.8.0->ultralytics==8.1.5->-r requirements.txt (line 1)) (3.13.1)\n",
      "Requirement already satisfied: typing-extensions in /home/matfox44/miniconda3/envs/cerf_sanglier/lib/python3.10/site-packages (from torch>=1.8.0->ultralytics==8.1.5->-r requirements.txt (line 1)) (4.9.0)\n",
      "Requirement already satisfied: sympy in /home/matfox44/miniconda3/envs/cerf_sanglier/lib/python3.10/site-packages (from torch>=1.8.0->ultralytics==8.1.5->-r requirements.txt (line 1)) (1.12)\n",
      "Requirement already satisfied: networkx in /home/matfox44/miniconda3/envs/cerf_sanglier/lib/python3.10/site-packages (from torch>=1.8.0->ultralytics==8.1.5->-r requirements.txt (line 1)) (3.2.1)\n",
      "Requirement already satisfied: fsspec in /home/matfox44/miniconda3/envs/cerf_sanglier/lib/python3.10/site-packages (from torch>=1.8.0->ultralytics==8.1.5->-r requirements.txt (line 1)) (2023.12.2)\n",
      "Requirement already satisfied: nvidia-cuda-nvrtc-cu12==12.1.105 in /home/matfox44/miniconda3/envs/cerf_sanglier/lib/python3.10/site-packages (from torch>=1.8.0->ultralytics==8.1.5->-r requirements.txt (line 1)) (12.1.105)\n",
      "Requirement already satisfied: nvidia-cuda-runtime-cu12==12.1.105 in /home/matfox44/miniconda3/envs/cerf_sanglier/lib/python3.10/site-packages (from torch>=1.8.0->ultralytics==8.1.5->-r requirements.txt (line 1)) (12.1.105)\n",
      "Requirement already satisfied: nvidia-cuda-cupti-cu12==12.1.105 in /home/matfox44/miniconda3/envs/cerf_sanglier/lib/python3.10/site-packages (from torch>=1.8.0->ultralytics==8.1.5->-r requirements.txt (line 1)) (12.1.105)\n",
      "Requirement already satisfied: nvidia-cudnn-cu12==8.9.2.26 in /home/matfox44/miniconda3/envs/cerf_sanglier/lib/python3.10/site-packages (from torch>=1.8.0->ultralytics==8.1.5->-r requirements.txt (line 1)) (8.9.2.26)\n",
      "Requirement already satisfied: nvidia-cublas-cu12==12.1.3.1 in /home/matfox44/miniconda3/envs/cerf_sanglier/lib/python3.10/site-packages (from torch>=1.8.0->ultralytics==8.1.5->-r requirements.txt (line 1)) (12.1.3.1)\n",
      "Requirement already satisfied: nvidia-cufft-cu12==11.0.2.54 in /home/matfox44/miniconda3/envs/cerf_sanglier/lib/python3.10/site-packages (from torch>=1.8.0->ultralytics==8.1.5->-r requirements.txt (line 1)) (11.0.2.54)\n",
      "Requirement already satisfied: nvidia-curand-cu12==10.3.2.106 in /home/matfox44/miniconda3/envs/cerf_sanglier/lib/python3.10/site-packages (from torch>=1.8.0->ultralytics==8.1.5->-r requirements.txt (line 1)) (10.3.2.106)\n",
      "Requirement already satisfied: nvidia-cusolver-cu12==11.4.5.107 in /home/matfox44/miniconda3/envs/cerf_sanglier/lib/python3.10/site-packages (from torch>=1.8.0->ultralytics==8.1.5->-r requirements.txt (line 1)) (11.4.5.107)\n",
      "Requirement already satisfied: nvidia-cusparse-cu12==12.1.0.106 in /home/matfox44/miniconda3/envs/cerf_sanglier/lib/python3.10/site-packages (from torch>=1.8.0->ultralytics==8.1.5->-r requirements.txt (line 1)) (12.1.0.106)\n",
      "Requirement already satisfied: nvidia-nccl-cu12==2.18.1 in /home/matfox44/miniconda3/envs/cerf_sanglier/lib/python3.10/site-packages (from torch>=1.8.0->ultralytics==8.1.5->-r requirements.txt (line 1)) (2.18.1)\n",
      "Requirement already satisfied: nvidia-nvtx-cu12==12.1.105 in /home/matfox44/miniconda3/envs/cerf_sanglier/lib/python3.10/site-packages (from torch>=1.8.0->ultralytics==8.1.5->-r requirements.txt (line 1)) (12.1.105)\n",
      "Requirement already satisfied: triton==2.1.0 in /home/matfox44/miniconda3/envs/cerf_sanglier/lib/python3.10/site-packages (from torch>=1.8.0->ultralytics==8.1.5->-r requirements.txt (line 1)) (2.1.0)\n",
      "Requirement already satisfied: nvidia-nvjitlink-cu12 in /home/matfox44/miniconda3/envs/cerf_sanglier/lib/python3.10/site-packages (from nvidia-cusolver-cu12==11.4.5.107->torch>=1.8.0->ultralytics==8.1.5->-r requirements.txt (line 1)) (12.3.101)\n",
      "Requirement already satisfied: six>=1.5 in /home/matfox44/miniconda3/envs/cerf_sanglier/lib/python3.10/site-packages (from python-dateutil>=2.7->matplotlib>=3.3.0->ultralytics==8.1.5->-r requirements.txt (line 1)) (1.16.0)\n",
      "Requirement already satisfied: mpmath>=0.19 in /home/matfox44/miniconda3/envs/cerf_sanglier/lib/python3.10/site-packages (from sympy->torch>=1.8.0->ultralytics==8.1.5->-r requirements.txt (line 1)) (1.3.0)\n"
     ]
    }
   ],
   "source": [
    "!pip install -r requirements.txt"
   ]
  },
  {
   "cell_type": "code",
   "execution_count": 35,
   "metadata": {},
   "outputs": [],
   "source": [
    "import requests"
   ]
  },
  {
   "cell_type": "code",
   "execution_count": 36,
   "metadata": {},
   "outputs": [],
   "source": [
    "# We have put the localhost URL as default, feel free to change it\n",
    "url = \"http://127.0.0.1:5000/predict\""
   ]
  },
  {
   "cell_type": "code",
   "execution_count": 46,
   "metadata": {},
   "outputs": [],
   "source": [
    "# This a simple example of input for Don MacLean\n",
    "input_simple = {\n",
    "    \"input\": \"http://www.pyreneanway.com/blog/wp-content/uploads/2018/11/wild-boar.jpg\"\n",
    "}"
   ]
  },
  {
   "cell_type": "code",
   "execution_count": 47,
   "metadata": {},
   "outputs": [
    {
     "name": "stdout",
     "output_type": "stream",
     "text": [
      "200\n"
     ]
    }
   ],
   "source": [
    "res = requests.post(url, json=input_simple)\n",
    "print(res.status_code)\n",
    "assert res.status_code == 200"
   ]
  },
  {
   "cell_type": "code",
   "execution_count": 48,
   "metadata": {},
   "outputs": [
    {
     "data": {
      "text/plain": [
       "{'boar': 1, 'deer': 0}"
      ]
     },
     "execution_count": 48,
     "metadata": {},
     "output_type": "execute_result"
    }
   ],
   "source": [
    "res.json()[0]['number_of_detections_by_class']"
   ]
  },
  {
   "cell_type": "code",
   "execution_count": 59,
   "metadata": {},
   "outputs": [],
   "source": [
    "# This a example of input with several inputs\n",
    "input_multiple = {\n",
    "    \"input\": [\"wild-boar.jpg\",\n",
    "\"https://www.wildlifetrusts.org/sites/default/files/styles/large/public/2017-12/Red%20Deer%20%C2%A9%20Gillian%20Day.JPG?itok=IWpCipcv\"]\n",
    "}"
   ]
  },
  {
   "cell_type": "code",
   "execution_count": 60,
   "metadata": {},
   "outputs": [],
   "source": [
    "res = requests.post(url, json=input_multiple)\n",
    "assert res.status_code == 200\n"
   ]
  },
  {
   "cell_type": "code",
   "execution_count": 61,
   "metadata": {},
   "outputs": [
    {
     "name": "stdout",
     "output_type": "stream",
     "text": [
      "{'boar': 1, 'deer': 0}\n",
      "{'boar': 0, 'deer': 2}\n"
     ]
    }
   ],
   "source": [
    "results = res.json()\n",
    "for result in results:\n",
    "    print(result['number_of_detections_by_class'])"
   ]
  },
  {
   "cell_type": "code",
   "execution_count": null,
   "metadata": {},
   "outputs": [],
   "source": []
  }
 ],
 "metadata": {
  "kernelspec": {
   "display_name": "Cerf-Sanglier",
   "language": "python",
   "name": "cerf-sanglier"
  },
  "language_info": {
   "codemirror_mode": {
    "name": "ipython",
    "version": 3
   },
   "file_extension": ".py",
   "mimetype": "text/x-python",
   "name": "python",
   "nbconvert_exporter": "python",
   "pygments_lexer": "ipython3",
   "version": "3.10.11"
  }
 },
 "nbformat": 4,
 "nbformat_minor": 4
}
